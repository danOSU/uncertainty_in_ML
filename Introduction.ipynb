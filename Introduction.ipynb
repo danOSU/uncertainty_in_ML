{
 "cells": [
  {
   "cell_type": "markdown",
   "id": "sacred-medication",
   "metadata": {},
   "source": [
    "## [A gentle introduction to uncertainty in Machine Learning ](https://machinelearningmastery.com/uncertainty-in-machine-learning/)\n",
    "#### by Jason Browniee is a very good introduction to the topic."
   ]
  },
  {
   "cell_type": "markdown",
   "id": "uniform-presence",
   "metadata": {},
   "source": [
    "He identifies three main sources of uncertainty.\n",
    "\n",
    "1. Noise/errors in the selected Data sets to train our ML model.\n",
    "2. Biases that might have been introduced to the data set when they were collected from the domain.\n",
    "3. Imperfect/inadequacy of the machine learning model we choose to model the data.\n",
    "\n",
    "He conclude by directing us to probability as the foundation that provide tools to quantify and include these uncertainties in the model predictions. \n",
    "\n",
    "In the comment section he provide, multiple ML models/techniques that can quantify the uncertainty in there predictions.\n",
    "\n",
    "1. [Calculating confidence intervals for ML](https://machinelearningmastery.com/confidence-intervals-for-machine-learning/)\n",
    "2. [Prediction intervals for ML](https://machinelearningmastery.com/prediction-intervals-for-machine-learning/)\n",
    "3. [Combining predictions from multiple models using voting](https://machinelearningmastery.com/voting-ensembles-with-python/)\n",
    "\n",
    "From my reading I have found the following ML methods also provide ways to quantify the uncertainty in their predictions.\n",
    "\n",
    "1. Bayesian machine learning models\n",
    "3. [Neural Networks with drop out method](https://towardsdatascience.com/knowing-known-unknowns-with-deep-neural-networks-caac1c4c1f5d)\n",
    "4. Regression trees"
   ]
  },
  {
   "cell_type": "markdown",
   "id": "broke-driver",
   "metadata": {},
   "source": [
    "## Bayesian machine learning models"
   ]
  },
  {
   "cell_type": "markdown",
   "id": "modern-persian",
   "metadata": {},
   "source": [
    "1. Gaussian processes\n",
    "2. Bayesian neural networks\n",
    "3. Neural nets with drop-out method"
   ]
  },
  {
   "cell_type": "markdown",
   "id": "white-rabbit",
   "metadata": {},
   "source": [
    "### A very good [introduction](https://cs.adelaide.edu.au/~javen/talk/ML05_Uncertainty_in_DL.pdf)\n",
    "##### by Ehsan Abbasnejad. \n"
   ]
  },
  {
   "cell_type": "markdown",
   "id": "protecting-cheat",
   "metadata": {},
   "source": [
    "## [Interesting Pthon package about Uncertainity estimation](https://github.com/uncertainty-toolbox/uncertainty-toolbox)"
   ]
  },
  {
   "cell_type": "markdown",
   "id": "marine-argument",
   "metadata": {},
   "source": [
    "### Few intresting aticles in uncertainity estimation of ML models"
   ]
  },
  {
   "cell_type": "markdown",
   "id": "beautiful-alcohol",
   "metadata": {},
   "source": [
    "https://towardsdatascience.com/estimating-uncertainty-in-machine-learning-models-part-1-99fde3b0cbc1\n",
    "https://www.inovex.de/de/blog/uncertainty-quantification-deep-learning/\n",
    "https://towardsdatascience.com/tutorial-uncertainty-estimation-with-catboost-255805ff217e\n",
    "https://towardsdatascience.com/how-to-deal-with-uncertainty-in-the-era-of-deep-learning-977decdf84b5"
   ]
  },
  {
   "cell_type": "markdown",
   "id": "following-prize",
   "metadata": {},
   "source": [
    "### Very interesting Data science summer school material about many different topics includin Bayesian ML models\n",
    "\n",
    "http://2018.ds3-datascience-polytechnique.fr/sessions/"
   ]
  }
 ],
 "metadata": {
  "kernelspec": {
   "display_name": "Python 3",
   "language": "python",
   "name": "python3"
  },
  "language_info": {
   "codemirror_mode": {
    "name": "ipython",
    "version": 3
   },
   "file_extension": ".py",
   "mimetype": "text/x-python",
   "name": "python",
   "nbconvert_exporter": "python",
   "pygments_lexer": "ipython3",
   "version": "3.7.8"
  }
 },
 "nbformat": 4,
 "nbformat_minor": 5
}
